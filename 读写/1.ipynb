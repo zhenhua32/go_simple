{
    "cells": [
        {
            "cell_type": "code",
            "execution_count": null,
            "source": [
                "a = 1"
            ],
            "outputs": [],
            "metadata": {}
        }
    ],
    "metadata": {
        "orig_nbformat": 4,
        "language_info": {
            "name": "python",
            "version": "3.8.5"
        },
        "kernelspec": {
            "name": "python3",
            "display_name": "Python 3.8.5 64-bit ('base': conda)"
        },
        "interpreter": {
            "hash": "97ae724bfa85b9b34df7982b8bb8c7216f435b92902d749e4263f71162bea840"
        }
    },
    "nbformat": 4,
    "nbformat_minor": 2
}