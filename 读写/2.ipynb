{
    "cells": [
        {
            "cell_type": "code",
            "execution_count": 1,
            "source": [
                "var a int = 1"
            ],
            "outputs": [],
            "metadata": {}
        },
        {
            "cell_type": "code",
            "execution_count": 3,
            "source": [
                "import \"fmt\""
            ],
            "outputs": [],
            "metadata": {}
        },
        {
            "cell_type": "code",
            "execution_count": 4,
            "source": [
                "fmt.Println(\"Hello, World!\", a)"
            ],
            "outputs": [
                {
                    "output_type": "stream",
                    "name": "stdout",
                    "text": [
                        "Hello, World! 1\n"
                    ]
                },
                {
                    "output_type": "execute_result",
                    "data": {
                        "text/plain": [
                            "16 <nil>"
                        ]
                    },
                    "metadata": {},
                    "execution_count": 4
                }
            ],
            "metadata": {}
        }
    ],
    "metadata": {
        "orig_nbformat": 4,
        "language_info": {
            "name": "go",
            "version": "go1.16.6",
            "mimetype": "",
            "file_extension": ".go",
            "pygments_lexer": "",
            "codemirror_mode": "",
            "nbconvert_exporter": ""
        },
        "kernelspec": {
            "name": "go",
            "display_name": "Go",
            "language": "go"
        }
    },
    "nbformat": 4,
    "nbformat_minor": 2
}